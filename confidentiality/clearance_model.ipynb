{
 "cells": [
  {
   "cell_type": "markdown",
   "metadata": {},
   "source": [
    "### Clearance Model based on Bell-LaPadula, Chapter 5"
   ]
  },
  {
   "cell_type": "code",
   "execution_count": null,
   "metadata": {},
   "outputs": [],
   "source": [
    "documents = [\n",
    "    { \n",
    "        'content': \"alpha\",\n",
    "        'clearance': ('usa','confidential')\n",
    "    },\n",
    "    { \n",
    "        'content': \"beta\",\n",
    "        'clearance': ('ohio','secret')\n",
    "    },\n",
    "    { \n",
    "        'content': \"gamma\",\n",
    "        'clearance': ('usa','topsecret')\n",
    "    },\n",
    "    { \n",
    "        'content': \"treats\",\n",
    "        'clearance': ('ohio','unclassified')\n",
    "    },    \n",
    "]\n",
    "documents"
   ]
  },
  {
   "cell_type": "code",
   "execution_count": null,
   "metadata": {},
   "outputs": [],
   "source": [
    "subjects = [\n",
    "    { \n",
    "        'name': \"santa\",\n",
    "        'clearance': ('world','topsecret')\n",
    "    },\n",
    "    { \n",
    "        'name': \"dorothy\",\n",
    "        'clearance': ('ohio','confidential')\n",
    "    },\n",
    "    { \n",
    "        'name': \"roger\",\n",
    "        'clearance': ('usa','secret')\n",
    "    }\n",
    "]\n",
    "subjects"
   ]
  },
  {
   "cell_type": "code",
   "execution_count": null,
   "metadata": {},
   "outputs": [],
   "source": [
    "def level_dominates(a, b):\n",
    "    # print(\"does level\",a,\"dominate\",b,\"?\")\n",
    "    levels = ['unclassified', 'confidential', 'secret', 'topsecret']\n",
    "    if (a in levels) and (b in levels):\n",
    "        return levels.index(a) >= levels.index(b)\n",
    "    return False\n",
    "\n",
    "pairs = [\n",
    "    ('unclassified','secret'),\n",
    "    ('secret','unclassified'),\n",
    "    ('secret','secret'),   \n",
    "    ('topsecret','confidential')    \n",
    "]\n",
    "          \n",
    "for pair in pairs:\n",
    "    a, b = pair\n",
    "    print(a, b, level_dominates(a,b))"
   ]
  },
  {
   "cell_type": "code",
   "execution_count": null,
   "metadata": {},
   "outputs": [],
   "source": [
    "regions = {\n",
    "    'world' : ['usa','europe'],\n",
    "    'usa' : ['delaware','ohio','kansas'],\n",
    "    'europe' : ['france','germany','spain'],\n",
    "    'ohio' : ['cuyahoga','summit','portage','medina'],\n",
    "    'delaware' : ['wilmington','dover'],\n",
    "    'germany' : ['munich','berlin','hanover'],\n",
    "    'summit' : ['akron','fairlawn'],\n",
    "    'akron' : ['highland_square','uakron']\n",
    "}\n",
    "\n",
    "def region_dominates(a, b):\n",
    "    # print(\"does region\",a,\"dominate\",b,\"?\")\n",
    "    if (a == b):\n",
    "        return True\n",
    "    if not a in regions:\n",
    "        return False\n",
    "    if b in regions[a]:\n",
    "        return True\n",
    "    for region in regions[a]:\n",
    "        if region_dominates(region,b):\n",
    "            return True\n",
    "    return False\n",
    "    \n",
    "pairs = [\n",
    "    ('usa','ohio'),\n",
    "    ('europe','europe'),\n",
    "    ('africa','ohio'),\n",
    "    ('usa','france'),\n",
    "    ('ohio','portage'),\n",
    "    ('usa','portage'),\n",
    "    ('usa','akron'),\n",
    "    ('usa','highland_square'),\n",
    "    ('europe','portage'),\n",
    "    ('ohio','usa')\n",
    "]\n",
    "          \n",
    "for pair in pairs:\n",
    "    a, b = pair\n",
    "    print(a, b, region_dominates(a,b))    "
   ]
  },
  {
   "cell_type": "code",
   "execution_count": null,
   "metadata": {},
   "outputs": [],
   "source": []
  },
  {
   "cell_type": "code",
   "execution_count": null,
   "metadata": {},
   "outputs": [],
   "source": [
    "def dominates(a,b):\n",
    "    # print(\"does clearance\",a,\"dominate\",b,\"?\")\n",
    "    region_a, level_a = a\n",
    "    region_b, level_b = b\n",
    "    if level_b == \"unclassified\":\n",
    "        return True\n",
    "    return region_dominates(region_a, region_b) and level_dominates(level_a, level_b)\n",
    "\n",
    "print(dominates(('usa','secret'),('ohio','confidential')))\n",
    "print(dominates(('usa','confidential'),('ohio','secret')))\n",
    "print(dominates(('usa','secret'),('ohio','secret')))\n",
    "print(dominates(('usa','secret'),('europe','secret')))\n",
    "print(dominates(('world','secret'),('uakron','secret')))"
   ]
  },
  {
   "cell_type": "code",
   "execution_count": null,
   "metadata": {},
   "outputs": [],
   "source": [
    "def simple_security(subject, document):\n",
    "    return dominates(subject['clearance'],document['clearance'])\n",
    "\n",
    "def star_property(subject, document):\n",
    "    return dominates(document['clearance'],subject['clearance'])\n",
    "\n",
    "def can_read(subject, document):\n",
    "    return simple_security(subject, document)\n",
    "\n",
    "def can_write(subject, document):\n",
    "    return star_property(subject, document)"
   ]
  },
  {
   "cell_type": "code",
   "execution_count": null,
   "metadata": {},
   "outputs": [],
   "source": [
    "can_read(subjects[0],documents[1])"
   ]
  },
  {
   "cell_type": "code",
   "execution_count": null,
   "metadata": {},
   "outputs": [],
   "source": [
    "can_read(subjects[2],documents[2])"
   ]
  },
  {
   "cell_type": "code",
   "execution_count": null,
   "metadata": {},
   "outputs": [],
   "source": [
    "for subject in subjects:\n",
    "    for document in documents:\n",
    "        if can_read(subject, document):\n",
    "            print(subject['name'],'can read',document['content'])\n",
    "        else:\n",
    "            print(subject['name'],'can not read',document['content'])"
   ]
  },
  {
   "cell_type": "code",
   "execution_count": null,
   "metadata": {},
   "outputs": [],
   "source": [
    "for subject in subjects:\n",
    "    for document in documents:\n",
    "        if can_write(subject, document):\n",
    "            print(subject['name'],'can write',document['content'])\n",
    "        else:\n",
    "            print(subject['name'],'can not write',document['content'])"
   ]
  },
  {
   "cell_type": "code",
   "execution_count": null,
   "metadata": {},
   "outputs": [],
   "source": []
  }
 ],
 "metadata": {
  "kernelspec": {
   "display_name": "Python 3",
   "language": "python",
   "name": "python3"
  },
  "language_info": {
   "codemirror_mode": {
    "name": "ipython",
    "version": 3
   },
   "file_extension": ".py",
   "mimetype": "text/x-python",
   "name": "python",
   "nbconvert_exporter": "python",
   "pygments_lexer": "ipython3",
   "version": "3.9.2"
  }
 },
 "nbformat": 4,
 "nbformat_minor": 4
}
