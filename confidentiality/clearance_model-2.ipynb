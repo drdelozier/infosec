{
 "cells": [
  {
   "cell_type": "code",
   "execution_count": null,
   "metadata": {},
   "outputs": [],
   "source": [
    "import random\n",
    "random.seed()"
   ]
  },
  {
   "cell_type": "markdown",
   "metadata": {},
   "source": [
    "### Clearance Model based on Bell-LaPadula, Chapter 5"
   ]
  },
  {
   "cell_type": "code",
   "execution_count": null,
   "metadata": {},
   "outputs": [],
   "source": [
    "def initial_documents():\n",
    "    documents = [\n",
    "        { \n",
    "            'title':\"Confidential Report\",\n",
    "            'content': \"efwiejfldjl\",\n",
    "            'clearance': ('usa','confidential')\n",
    "        },\n",
    "        { \n",
    "            'title':\"Secret Blueprints\",\n",
    "            'content': \"32149209\",\n",
    "            'clearance': ('ohio','secret')\n",
    "        },\n",
    "        { \n",
    "            'title':\"Top Secret Dossier\",\n",
    "            'content': \"&^%&*^%&^*&^\",\n",
    "            'clearance': ('usa','topsecret')\n",
    "        },\n",
    "        { \n",
    "            'title':\"Unclassified Article\",\n",
    "            'content': \"AKLLEKNBVN\",\n",
    "            'clearance': ('ohio','unclassified')\n",
    "        },    \n",
    "    ]\n",
    "    return documents\n",
    "\n",
    "documents = initial_documents()\n",
    "documents"
   ]
  },
  {
   "cell_type": "code",
   "execution_count": null,
   "metadata": {},
   "outputs": [],
   "source": [
    "def initial_subjects():\n",
    "    subjects = [\n",
    "        { \n",
    "            'knowledge':\"%\",\n",
    "            'name': \"santa\",\n",
    "            'clearance': ('world','topsecret')\n",
    "        },\n",
    "        { \n",
    "            'knowledge':\"e\",\n",
    "            'name': \"dorothy\",\n",
    "            'clearance': ('ohio','confidential')\n",
    "        },\n",
    "        { \n",
    "            'knowledge':\"8\",\n",
    "            'name': \"roger\",\n",
    "            'clearance': ('usa','secret')\n",
    "        },\n",
    "        { \n",
    "            'knowledge':\"C\",\n",
    "            'name': \"sandy\",\n",
    "            'clearance': ('world','unclassified')\n",
    "        },\n",
    "    ]\n",
    "    return subjects\n",
    "    \n",
    "subjects = initial_subjects()"
   ]
  },
  {
   "cell_type": "code",
   "execution_count": null,
   "metadata": {},
   "outputs": [],
   "source": [
    "def level_dominates(a, b):\n",
    "    # print(\"does level\",a,\"dominate\",b,\"?\")\n",
    "    levels = ['unclassified', 'confidential', 'secret', 'topsecret']\n",
    "    if (a in levels) and (b in levels):\n",
    "        return levels.index(a) >= levels.index(b)\n",
    "    return False\n",
    "\n",
    "pairs = [\n",
    "    ('unclassified','secret'),\n",
    "    ('secret','unclassified'),\n",
    "    ('secret','secret'),   \n",
    "    ('topsecret','confidential')    \n",
    "]\n",
    "          \n",
    "for pair in pairs:\n",
    "    a, b = pair\n",
    "    print(a, b, level_dominates(a,b))"
   ]
  },
  {
   "cell_type": "code",
   "execution_count": null,
   "metadata": {},
   "outputs": [],
   "source": [
    "regions = {\n",
    "    'world' : ['usa','europe'],\n",
    "    'usa' : ['delaware','ohio','kansas'],\n",
    "    'europe' : ['france','germany','spain'],\n",
    "    'ohio' : ['cuyahoga','summit','portage','medina'],\n",
    "    'delaware' : ['wilmington','dover'],\n",
    "    'germany' : ['munich','berlin','hanover'],\n",
    "    'summit' : ['akron','fairlawn'],\n",
    "    'akron' : ['highland_square','uakron']\n",
    "}\n",
    "\n",
    "def region_dominates(a, b):\n",
    "    # print(\"does region\",a,\"dominate\",b,\"?\")\n",
    "    if (a == b):\n",
    "        return True\n",
    "    if not a in regions:\n",
    "        return False\n",
    "    if b in regions[a]:\n",
    "        return True\n",
    "    for region in regions[a]:\n",
    "        if region_dominates(region,b):\n",
    "            return True\n",
    "    return False\n",
    "    \n",
    "pairs = [\n",
    "    ('usa','ohio'),\n",
    "    ('europe','europe'),\n",
    "    ('africa','ohio'),\n",
    "    ('usa','france'),\n",
    "    ('ohio','portage'),\n",
    "    ('usa','portage'),\n",
    "    ('usa','akron'),\n",
    "    ('usa','highland_square'),\n",
    "    ('europe','portage'),\n",
    "    ('ohio','usa')\n",
    "]\n",
    "          \n",
    "for pair in pairs:\n",
    "    a, b = pair\n",
    "    print(a, b, region_dominates(a,b))    "
   ]
  },
  {
   "cell_type": "code",
   "execution_count": null,
   "metadata": {},
   "outputs": [],
   "source": []
  },
  {
   "cell_type": "code",
   "execution_count": null,
   "metadata": {},
   "outputs": [],
   "source": [
    "def dominates(a,b):\n",
    "    # print(\"does clearance\",a,\"dominate\",b,\"?\")\n",
    "    region_a, level_a = a\n",
    "    region_b, level_b = b\n",
    "    if level_b == \"unclassified\":\n",
    "        return True\n",
    "    return level_dominates(level_a, level_b)\n",
    "    return region_dominates(region_a, region_b) and level_dominates(level_a, level_b)\n",
    "\n",
    "print(dominates(('usa','secret'),('ohio','confidential')))\n",
    "print(dominates(('usa','confidential'),('ohio','secret')))\n",
    "print(dominates(('usa','secret'),('ohio','secret')))\n",
    "print(dominates(('usa','secret'),('europe','secret')))\n",
    "print(dominates(('world','secret'),('uakron','secret')))"
   ]
  },
  {
   "cell_type": "code",
   "execution_count": null,
   "metadata": {},
   "outputs": [],
   "source": [
    "def simple_security(subject, document):\n",
    "    return dominates(subject['clearance'],document['clearance'])\n",
    "\n",
    "def star_property(subject, document):\n",
    "    return dominates(document['clearance'],subject['clearance'])\n",
    "\n",
    "def can_read(subject, document):\n",
    "    return simple_security(subject, document)\n",
    "\n",
    "def can_write(subject, document):\n",
    "    return star_property(subject, document)"
   ]
  },
  {
   "cell_type": "code",
   "execution_count": null,
   "metadata": {},
   "outputs": [],
   "source": [
    "can_read(subjects[0],documents[1])"
   ]
  },
  {
   "cell_type": "code",
   "execution_count": null,
   "metadata": {},
   "outputs": [],
   "source": [
    "can_read(subjects[2],documents[2])"
   ]
  },
  {
   "cell_type": "code",
   "execution_count": null,
   "metadata": {},
   "outputs": [],
   "source": [
    "for subject in subjects:\n",
    "    for document in documents:\n",
    "        if can_read(subject, document):\n",
    "            print(subject['name'],'can read',document['content'])\n",
    "        else:\n",
    "            print(subject['name'],'can not read',document['content'])"
   ]
  },
  {
   "cell_type": "code",
   "execution_count": null,
   "metadata": {},
   "outputs": [],
   "source": [
    "for subject in subjects:\n",
    "    for document in documents:\n",
    "        if can_write(subject, document):\n",
    "            print(subject['name'],'can write',document['content'])\n",
    "        else:\n",
    "            print(subject['name'],'can not write',document['content'])"
   ]
  },
  {
   "cell_type": "code",
   "execution_count": null,
   "metadata": {},
   "outputs": [],
   "source": [
    "def show_conditions():\n",
    "    print()\n",
    "    print(\"SUBJECTS\")\n",
    "    print()\n",
    "    for subject in subjects:\n",
    "        print(subject['name'], 'with clearance of', subject['clearance'], 'knows about ',[subject['knowledge']])\n",
    "    print()\n",
    "    print(\"DOCUMENTS\")\n",
    "    print()\n",
    "    for document in documents:\n",
    "        print(document['title'], 'with clearance of', document['clearance'], 'has content of ',[document['content']])\n",
    "    print()\n",
    "    \n",
    "show_conditions()"
   ]
  },
  {
   "cell_type": "code",
   "execution_count": null,
   "metadata": {},
   "outputs": [],
   "source": [
    "def attempt_to_read(subject, document, verbose=False):\n",
    "    if not can_read(subject, document) and random.randint(1,1000) <= 999:\n",
    "        if verbose: print(subject['name'], \"can not read from\" , document['title'])\n",
    "        return\n",
    "    if verbose: print(subject['name'], \"reads from\" , document['title'])\n",
    "    item = random.choice(document['content'])\n",
    "    if item not in subject['knowledge']:\n",
    "        subject['knowledge'] += item\n",
    "    \n",
    "attempt_to_read(subjects[0],documents[0])\n",
    "attempt_to_read(subjects[1],documents[0])"
   ]
  },
  {
   "cell_type": "code",
   "execution_count": null,
   "metadata": {},
   "outputs": [],
   "source": [
    "def attempt_to_write(subject, document, verbose=False):\n",
    "    if not can_write(subject, document) and random.randint(1,1000) <= 999:\n",
    "        if verbose: print(subject['name'], \"can not write to\" , document['title'])\n",
    "        return\n",
    "    if verbose: print(subject['name'], \"writes to\" , document['title'])\n",
    "    item = random.choice(subject['knowledge'])\n",
    "    if item not in document['content']:\n",
    "        document['content'] += item\n",
    "    \n",
    "attempt_to_write(subjects[0],documents[0])\n",
    "attempt_to_write(subjects[1],documents[0])"
   ]
  },
  {
   "cell_type": "code",
   "execution_count": null,
   "metadata": {},
   "outputs": [],
   "source": [
    "subjects = initial_subjects()\n",
    "documents = initial_documents()\n",
    "show_conditions()\n",
    "\n",
    "# for subject in subjects:\n",
    "#     for document in documents:\n",
    "#         attempt_to_read(subject, document)\n",
    "#         attempt_to_write(subject, document)\n",
    "\n",
    "print(\"start interactions\")\n",
    "for i in range(0,100000):\n",
    "    subject = random.choice(subjects)\n",
    "    document = random.choice(documents)\n",
    "    if random.choice(\"RW\") == \"R\":\n",
    "        attempt_to_read(subject, document)\n",
    "    else:\n",
    "        attempt_to_write(subject, document)\n",
    "print(\"stop interactions\")\n",
    "\n",
    "show_conditions()"
   ]
  },
  {
   "cell_type": "code",
   "execution_count": null,
   "metadata": {},
   "outputs": [],
   "source": []
  }
 ],
 "metadata": {
  "kernelspec": {
   "display_name": "Python 3",
   "language": "python",
   "name": "python3"
  },
  "language_info": {
   "codemirror_mode": {
    "name": "ipython",
    "version": 3
   },
   "file_extension": ".py",
   "mimetype": "text/x-python",
   "name": "python",
   "nbconvert_exporter": "python",
   "pygments_lexer": "ipython3",
   "version": "3.9.2"
  }
 },
 "nbformat": 4,
 "nbformat_minor": 4
}
